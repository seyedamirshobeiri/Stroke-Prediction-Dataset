{
 "cells": [
  {
   "cell_type": "code",
   "execution_count": 35,
   "metadata": {},
   "outputs": [],
   "source": [
    "import pandas as pd\n",
    "import numpy as np\n",
    "from sklearn.model_selection import train_test_split\n",
    "from sklearn.neural_network import MLPClassifier\n",
    "from sklearn.preprocessing import StandardScaler"
   ]
  },
  {
   "cell_type": "code",
   "execution_count": 17,
   "metadata": {},
   "outputs": [],
   "source": [
    "data=pd.read_csv('healthcare-dataset-stroke-data.csv')"
   ]
  },
  {
   "cell_type": "code",
   "execution_count": 18,
   "metadata": {},
   "outputs": [
    {
     "name": "stdout",
     "output_type": "stream",
     "text": [
      "<class 'pandas.core.frame.DataFrame'>\n",
      "RangeIndex: 5110 entries, 0 to 5109\n",
      "Data columns (total 12 columns):\n",
      " #   Column             Non-Null Count  Dtype  \n",
      "---  ------             --------------  -----  \n",
      " 0   id                 5110 non-null   int64  \n",
      " 1   gender             5110 non-null   object \n",
      " 2   age                5110 non-null   float64\n",
      " 3   hypertension       5110 non-null   int64  \n",
      " 4   heart_disease      5110 non-null   int64  \n",
      " 5   ever_married       5110 non-null   object \n",
      " 6   work_type          5110 non-null   object \n",
      " 7   Residence_type     5110 non-null   object \n",
      " 8   avg_glucose_level  5110 non-null   float64\n",
      " 9   bmi                4909 non-null   float64\n",
      " 10  smoking_status     5110 non-null   object \n",
      " 11  stroke             5110 non-null   int64  \n",
      "dtypes: float64(3), int64(4), object(5)\n",
      "memory usage: 479.2+ KB\n"
     ]
    }
   ],
   "source": [
    "data.info()"
   ]
  },
  {
   "cell_type": "code",
   "execution_count": 19,
   "metadata": {},
   "outputs": [],
   "source": [
    "data.smoking_status=data.smoking_status.apply(['never smoked','Unknown','formerly smoked','smokes'].index)\n",
    "data.gender=data.gender.apply(['Female','Male','Other'].index)\n",
    "data.Residence_type=data.Residence_type.apply(['Urban','Rural'].index)\n",
    "data.work_type=data.work_type.apply(['Private','Self-employed','children','Govt_job','Never_worked'].index)\n",
    "data.ever_married=data.ever_married.apply(['Yes','No'].index)"
   ]
  },
  {
   "cell_type": "code",
   "execution_count": 20,
   "metadata": {},
   "outputs": [
    {
     "name": "stdout",
     "output_type": "stream",
     "text": [
      "<class 'pandas.core.frame.DataFrame'>\n",
      "RangeIndex: 5110 entries, 0 to 5109\n",
      "Data columns (total 12 columns):\n",
      " #   Column             Non-Null Count  Dtype  \n",
      "---  ------             --------------  -----  \n",
      " 0   id                 5110 non-null   int64  \n",
      " 1   gender             5110 non-null   int64  \n",
      " 2   age                5110 non-null   float64\n",
      " 3   hypertension       5110 non-null   int64  \n",
      " 4   heart_disease      5110 non-null   int64  \n",
      " 5   ever_married       5110 non-null   int64  \n",
      " 6   work_type          5110 non-null   int64  \n",
      " 7   Residence_type     5110 non-null   int64  \n",
      " 8   avg_glucose_level  5110 non-null   float64\n",
      " 9   bmi                4909 non-null   float64\n",
      " 10  smoking_status     5110 non-null   int64  \n",
      " 11  stroke             5110 non-null   int64  \n",
      "dtypes: float64(3), int64(9)\n",
      "memory usage: 479.2 KB\n"
     ]
    }
   ],
   "source": [
    "data.info()"
   ]
  },
  {
   "cell_type": "code",
   "execution_count": 22,
   "metadata": {},
   "outputs": [],
   "source": [
    "y=data['stroke']\n",
    "x=data.drop('stroke',axis=1)"
   ]
  },
  {
   "cell_type": "code",
   "execution_count": 28,
   "metadata": {},
   "outputs": [],
   "source": [
    "x=data.drop('bmi',axis=1)"
   ]
  },
  {
   "cell_type": "code",
   "execution_count": 29,
   "metadata": {},
   "outputs": [],
   "source": [
    "x_train,x_test,y_train,y_test=train_test_split(x,y,test_size=0.2,random_state=42)"
   ]
  },
  {
   "cell_type": "code",
   "execution_count": 36,
   "metadata": {},
   "outputs": [],
   "source": [
    "model=MLPClassifier(verbose=True)"
   ]
  },
  {
   "cell_type": "code",
   "execution_count": 37,
   "metadata": {},
   "outputs": [],
   "source": [
    "scaler = StandardScaler()\n",
    "scaler.fit(x_train)\n",
    "\n",
    "X_train = scaler.transform(x_train)\n",
    "X_test = scaler.transform(x_test)"
   ]
  },
  {
   "cell_type": "code",
   "execution_count": 38,
   "metadata": {},
   "outputs": [
    {
     "name": "stdout",
     "output_type": "stream",
     "text": [
      "Iteration 1, loss = 0.46045432\n",
      "Iteration 2, loss = 0.27501912\n",
      "Iteration 3, loss = 0.17837557\n",
      "Iteration 4, loss = 0.12159594\n",
      "Iteration 5, loss = 0.08497877\n",
      "Iteration 6, loss = 0.06056182\n",
      "Iteration 7, loss = 0.04446231\n",
      "Iteration 8, loss = 0.03361761\n",
      "Iteration 9, loss = 0.02608452\n",
      "Iteration 10, loss = 0.02079982\n",
      "Iteration 11, loss = 0.01691951\n",
      "Iteration 12, loss = 0.01401743\n",
      "Iteration 13, loss = 0.01178735\n",
      "Iteration 14, loss = 0.01006112\n",
      "Iteration 15, loss = 0.00867358\n",
      "Iteration 16, loss = 0.00755519\n",
      "Iteration 17, loss = 0.00663881\n",
      "Iteration 18, loss = 0.00588560\n",
      "Iteration 19, loss = 0.00524687\n",
      "Iteration 20, loss = 0.00470468\n",
      "Iteration 21, loss = 0.00424667\n",
      "Iteration 22, loss = 0.00385266\n",
      "Iteration 23, loss = 0.00350899\n",
      "Iteration 24, loss = 0.00321121\n",
      "Iteration 25, loss = 0.00294904\n",
      "Iteration 26, loss = 0.00271767\n",
      "Iteration 27, loss = 0.00251216\n",
      "Iteration 28, loss = 0.00232947\n",
      "Iteration 29, loss = 0.00216514\n",
      "Iteration 30, loss = 0.00201807\n",
      "Iteration 31, loss = 0.00188487\n",
      "Iteration 32, loss = 0.00176491\n",
      "Iteration 33, loss = 0.00165575\n",
      "Iteration 34, loss = 0.00155709\n",
      "Iteration 35, loss = 0.00146619\n",
      "Iteration 36, loss = 0.00138272\n",
      "Iteration 37, loss = 0.00130580\n",
      "Iteration 38, loss = 0.00123599\n",
      "Iteration 39, loss = 0.00117076\n",
      "Iteration 40, loss = 0.00111146\n",
      "Iteration 41, loss = 0.00105636\n",
      "Iteration 42, loss = 0.00100481\n",
      "Iteration 43, loss = 0.00095735\n",
      "Iteration 44, loss = 0.00091304\n",
      "Training loss did not improve more than tol=0.000100 for 10 consecutive epochs. Stopping.\n"
     ]
    },
    {
     "data": {
      "text/plain": [
       "MLPClassifier(verbose=True)"
      ]
     },
     "execution_count": 38,
     "metadata": {},
     "output_type": "execute_result"
    }
   ],
   "source": [
    "model.fit(X_train,y_train)"
   ]
  },
  {
   "cell_type": "code",
   "execution_count": 40,
   "metadata": {},
   "outputs": [
    {
     "data": {
      "text/plain": [
       "1.0"
      ]
     },
     "execution_count": 40,
     "metadata": {},
     "output_type": "execute_result"
    }
   ],
   "source": [
    "model.score(X_test,y_test)"
   ]
  },
  {
   "cell_type": "code",
   "execution_count": 42,
   "metadata": {},
   "outputs": [
    {
     "name": "stdout",
     "output_type": "stream",
     "text": [
      "accuracy of this model is :  100 %\n"
     ]
    }
   ],
   "source": [
    "print('accuracy of this model is : ',int(model.score(X_test,y_test)*100),'%')"
   ]
  },
  {
   "cell_type": "code",
   "execution_count": null,
   "metadata": {},
   "outputs": [],
   "source": []
  },
  {
   "cell_type": "code",
   "execution_count": null,
   "metadata": {},
   "outputs": [],
   "source": []
  }
 ],
 "metadata": {
  "kernelspec": {
   "display_name": "Python 3",
   "language": "python",
   "name": "python3"
  },
  "language_info": {
   "codemirror_mode": {
    "name": "ipython",
    "version": 3
   },
   "file_extension": ".py",
   "mimetype": "text/x-python",
   "name": "python",
   "nbconvert_exporter": "python",
   "pygments_lexer": "ipython3",
   "version": "3.8.3"
  }
 },
 "nbformat": 4,
 "nbformat_minor": 4
}
